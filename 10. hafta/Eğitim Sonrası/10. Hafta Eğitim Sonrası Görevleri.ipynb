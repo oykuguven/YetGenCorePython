{
 "cells": [
  {
   "attachments": {},
   "cell_type": "markdown",
   "metadata": {},
   "source": [
    "# Problem 1 "
   ]
  },
  {
   "cell_type": "code",
   "execution_count": 1,
   "metadata": {},
   "outputs": [
    {
     "name": "stdout",
     "output_type": "stream",
     "text": [
      "sorted array: [0 1 3 4 8]\n"
     ]
    }
   ],
   "source": [
    "# 1 - numpy kütüphanesini import edin\n",
    "import numpy as np\n",
    "\n",
    "# 2 - 5 elemanlı bir numpy array oluşturun\n",
    "array = np.array([4,8,3,1,0])\n",
    "\n",
    "# 3 - Oluşturduğunuz arrayi küçükten büyüğe sıralayın.\n",
    "sorted_array = np.sort(array)\n",
    "print(\"sorted array:\", sorted_array)"
   ]
  },
  {
   "attachments": {},
   "cell_type": "markdown",
   "metadata": {},
   "source": [
    "# Problem 2"
   ]
  },
  {
   "cell_type": "code",
   "execution_count": 14,
   "metadata": {},
   "outputs": [
    {
     "name": "stdout",
     "output_type": "stream",
     "text": [
      "array: [10 15 30 45 60]\n",
      "array2: [ 5  6  7  8  9 10 11 12 13 14 15]\n",
      "array3: [ 50  55  60  65  70  75  80  85  90  95 100]\n",
      "array4: [0. 0. 0. 0. 0. 0. 0. 0. 0. 0.]\n",
      "array5: [1. 1. 1. 1. 1. 1. 1. 1. 1. 1.]\n",
      "array6: [  0.  25.  50.  75. 100.]\n",
      "array7: 28\n",
      "array8: 0.6268813754285703\n",
      "matrix: [[15 25 17 23 18]\n",
      " [12 44 49 32 34]\n",
      " [46 32 23 17 12]]\n",
      "satır sayısı: 3\n",
      "sütun sayısı: 5\n",
      "toplam: 8\n",
      "max value: 49\n",
      "min value: 12\n",
      "mean value: 26.6\n",
      "max index: (np.int64(1), np.int64(2))\n",
      "first 3 value: [10 11 12]\n",
      "reversed: [20 19 18 17 16 15 14 13 12 11 10]\n",
      "first row: [15 25 17 23 18]\n",
      "second row third column: 49\n",
      "first elements: [15 12 46]\n",
      "squares of all: [[ 225  625  289  529  324]\n",
      " [ 144 1936 2401 1024 1156]\n",
      " [2116 1024  529  289  144]]\n",
      "matrix19: [[ 48 -22  18  -4 -20]\n",
      " [ -9   6  12  28 -29]\n",
      " [ 15  22  -3   6  37]]\n",
      "positive even nums: [48 18  6 12 28 22  6]\n"
     ]
    }
   ],
   "source": [
    "# 1- (10,15,30,45,60) değerlerine sahip numpy dizisi oluşturunuz.\n",
    "import numpy as np\n",
    "array1 = np.array([10,15,30,45,60])\n",
    "print(\"array:\", array1)\n",
    "\n",
    "# 2- (5-15) arasındaki sayılarla numpy dizisi oluşturunuz.\n",
    "array2 = np.arange(5,16)\n",
    "print(\"array2:\", array2)\n",
    " \n",
    "# 3- (50-100) arasında 5'er 5'er artarak numpy dizisi oluşturunuz.\n",
    "array3 = np.arange(50,101,5)\n",
    "print(\"array3:\", array3)\n",
    "\n",
    "# 4- 10 elemanlı sıfırlardan oluşan bir dizi oluşturunuz.\n",
    "array4 = np.zeros(10)\n",
    "print(\"array4:\", array4)\n",
    "\n",
    "# 5- 10 elemanlı birlerden oluşan bir dizi oluşturunuz.\n",
    "array5 = np.ones(10)\n",
    "print(\"array5:\", array5)\n",
    "\n",
    "# 6- (0-100) arasında eşit aralıklı 5 sayı üretin.\n",
    "array6 = np.linspace(0,100,5)\n",
    "print(\"array6:\", array6)\n",
    "\n",
    "# 7- (10-30) arasında rastgele 5 tane tamsayı üretin.\n",
    "array7 = np.random.randint(10,31)\n",
    "print(\"array7:\", array7)\n",
    "\n",
    "# 8- [-1 ile 1] arasında 10 adet sayı üretin.\n",
    "array8 = np.random.uniform(-1,1)\n",
    "print(\"array8:\", array8)\n",
    "\n",
    "# 9- (3x5) boyutlarında (10-50) arasında rastgele bir matris oluşturunuz.\n",
    "matrix = np.random.randint(10,51, size=(3,5))\n",
    "print(\"matrix:\", matrix)\n",
    "\n",
    "# 10- Üretilen matrisin satır ve sütun sayıları toplamlarını hesaplayınız ?\n",
    "rows, cols = matrix.shape\n",
    "print(\"satır sayısı:\", rows)\n",
    "print(\"sütun sayısı:\",cols)\n",
    "print(\"toplam:\", rows +cols)\n",
    "\n",
    "\n",
    "# 11- Üretilen matrisin en büyük, en küçük ve ortalaması nedir ?\n",
    "max_value = matrix.max()\n",
    "min_value = matrix.min()\n",
    "mean_value = matrix.mean()\n",
    "\n",
    "print(\"max value:\", max_value)\n",
    "print(\"min value:\", min_value)\n",
    "print(\"mean value:\", mean_value)\n",
    "\n",
    "# 12- Üretilen matrisin en büyük değerinin indeksi kaçtır ?\n",
    "max_index = np.unravel_index(matrix.argmax(), matrix.shape)\n",
    "print(\"max index:\", max_index)\n",
    "\n",
    "# 13- (10-20) arasındaki sayıları içeren dizinin ilk 3 elemanını seçiniz.\n",
    "array_13 = np.arange(10,21)\n",
    "print(\"first 3 value:\", array_13[:3])\n",
    "\n",
    "\n",
    "# 14- Üretilen dizinin elemanlarını tersten yazdırın.\n",
    "array14 = np.arange(10,21)\n",
    "print(\"reversed:\", array14[::-1])\n",
    "\n",
    "\n",
    "# 15- Üretilen matrisin ilk satırını seçiniz.\n",
    "first_row = matrix[0,:]\n",
    "print(\"first row:\", first_row)\n",
    "\n",
    "# 16- Üretilen matrisin 2.satır 3.sütundaki elemanı hangisidir ?\n",
    "element = matrix[1,2]\n",
    "print(\"second row third column:\", element)\n",
    "\n",
    "\n",
    "# 17- Üretilen matrisin tüm satırlardaki ilk elemanı seçiniz.\n",
    "first_elements = matrix[:,0]\n",
    "print(\"first elements:\", first_elements)\n",
    "\n",
    "# 18- Üretilen matrisin her bir elemanının karesini alınız.\n",
    "squared_matrix = matrix ** 2\n",
    "print(\"squares of all:\", squared_matrix)\n",
    "\n",
    "# 19- Üretilen matris elemanlarının hangisi pozitif çift sayıdır ? Aralığı (-50,+50) arasında yapınız.\n",
    "matrix19 = np.random.randint(-50,51, size=(3,5))\n",
    "print(\"matrix19:\", matrix19)\n",
    "positive_even_elements = matrix19[(matrix19>0)& (matrix19%2==0)]\n",
    "print(\"positive even nums:\", positive_even_elements)"
   ]
  }
 ],
 "metadata": {
  "kernelspec": {
   "display_name": "Python 3",
   "language": "python",
   "name": "python3"
  },
  "language_info": {
   "codemirror_mode": {
    "name": "ipython",
    "version": 3
   },
   "file_extension": ".py",
   "mimetype": "text/x-python",
   "name": "python",
   "nbconvert_exporter": "python",
   "pygments_lexer": "ipython3",
   "version": "3.12.3"
  },
  "orig_nbformat": 4,
  "vscode": {
   "interpreter": {
    "hash": "5026d2d6e7aaaaba093def813beadff083d8733e4a511af01735cbabd156995d"
   }
  }
 },
 "nbformat": 4,
 "nbformat_minor": 2
}
