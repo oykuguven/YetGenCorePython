{
 "cells": [
  {
   "attachments": {},
   "cell_type": "markdown",
   "metadata": {},
   "source": [
    "# Problem 1"
   ]
  },
  {
   "cell_type": "code",
   "execution_count": 10,
   "metadata": {},
   "outputs": [
    {
     "name": "stdout",
     "output_type": "stream",
     "text": [
      "matris:  [5 3 5 7 1]\n",
      "matris boyutu: (5,)\n",
      "2\n"
     ]
    }
   ],
   "source": [
    "# 1 - numpy kütüphanesini import edin\n",
    "import numpy as np # type: ignore\n",
    "\n",
    "# 2 - 0 ile 10 arasında 5 sayıdan oluşan matris üretin\n",
    "matrix = np.random.randint(0,10, size=(5,))\n",
    "print(\"matris: \", matrix)\n",
    "\n",
    "\n",
    "# 3 - matris'in boyutunu öğrenin\n",
    "print(\"matris boyutu:\" ,matrix.shape)\n",
    "\n",
    "# 4 - matris'i yeniden boyutlandırın\n",
    "reshaped_matrix = matrix.reshape((5,1))\n",
    "\n",
    "# 5 - matris'in boyut sayısını öğrenin\n",
    "print(reshaped_matrix.ndim)\n"
   ]
  },
  {
   "attachments": {},
   "cell_type": "markdown",
   "metadata": {},
   "source": [
    "# Problem 2"
   ]
  },
  {
   "cell_type": "code",
   "execution_count": 14,
   "metadata": {},
   "outputs": [
    {
     "name": "stdout",
     "output_type": "stream",
     "text": [
      "matris: [[5 3 7]\n",
      " [3 3 5]\n",
      " [3 5 7]]\n",
      "parçalanmış matris: [array([[5, 3, 7]]), array([[3, 3, 5]]), array([[3, 5, 7]])]\n",
      "birleşmiş matris: [[5 3 7]\n",
      " [3 3 5]\n",
      " [3 5 7]]\n"
     ]
    }
   ],
   "source": [
    "# 1 - 0 ile 10 arasında bulunan tek sayılardan oluşan matris üretin\n",
    "import numpy as np \n",
    "tek_sayilar = np.array([1,3,5,7,9] )\n",
    "matrix = np.random.choice(tek_sayilar, (3,3))\n",
    "print(\"matris:\" , matrix)\n",
    "\n",
    "# 2 - Oluşturduğunuz matrisi parçalayın\n",
    "\n",
    "parca = np.split(matrix, matrix.shape[0])\n",
    "print(\"parçalanmış matris:\", parca)\n",
    "\n",
    "# 3 - Parçalanmış matrisleri birleştirin\n",
    "birlestir = np.concatenate(parca)\n",
    "print(\"birleşmiş matris:\", birlestir)\n",
    "\n"
   ]
  },
  {
   "attachments": {},
   "cell_type": "markdown",
   "metadata": {},
   "source": [
    "# Problem 3"
   ]
  },
  {
   "cell_type": "code",
   "execution_count": 19,
   "metadata": {},
   "outputs": [
    {
     "name": "stdout",
     "output_type": "stream",
     "text": [
      "matris: [[21 61 37 87 53]\n",
      " [69 15 73 71 99]]\n",
      "Matrix shape: (2, 5)\n",
      "Matrix size: 10\n"
     ]
    }
   ],
   "source": [
    "# 1 - 5 ile 100 arasında ikişer ikişer atlayarak rastgele 10 sayıdan oluşan matris üretin\n",
    "import numpy as np\n",
    "import random\n",
    "numbers = list(range(5,101,2))\n",
    "random_nums = random.sample(numbers,10)\n",
    "matrix = np.array(random_nums).reshape(2,5)\n",
    "print(\"matris:\" , matrix)\n",
    "\n",
    "# 2 - matris'in özelliklerini inceleyin\n",
    "\n",
    "print(\"Matrix shape:\", matrix.shape)\n",
    "print(\"Matrix size:\", matrix.size)\n",
    "\n",
    "\n"
   ]
  }
 ],
 "metadata": {
  "kernelspec": {
   "display_name": "Python 3",
   "language": "python",
   "name": "python3"
  },
  "language_info": {
   "codemirror_mode": {
    "name": "ipython",
    "version": 3
   },
   "file_extension": ".py",
   "mimetype": "text/x-python",
   "name": "python",
   "nbconvert_exporter": "python",
   "pygments_lexer": "ipython3",
   "version": "3.12.3"
  },
  "orig_nbformat": 4,
  "vscode": {
   "interpreter": {
    "hash": "5026d2d6e7aaaaba093def813beadff083d8733e4a511af01735cbabd156995d"
   }
  }
 },
 "nbformat": 4,
 "nbformat_minor": 2
}
