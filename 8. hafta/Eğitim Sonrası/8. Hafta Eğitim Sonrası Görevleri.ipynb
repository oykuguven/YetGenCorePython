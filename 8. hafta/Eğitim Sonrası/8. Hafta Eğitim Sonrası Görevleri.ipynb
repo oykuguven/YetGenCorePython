{
 "cells": [
  {
   "attachments": {},
   "cell_type": "markdown",
   "metadata": {},
   "source": [
    "# Problem 1\n",
    "\n",
    "Şimdi beraber kullanıcılardan aldığımız verileri işleyerek, onlara hem çıktı verecek, hem de aldığımız ve hesapladığımız verileri ileride kullanabilmek adına kaydedeceğiz.\n",
    "\n",
    "\n",
    " **Bu bir veri giriş platformu olacak**\n",
    "\n",
    "\n",
    " * kullanıcıya kaç giriş yapacağını soracağız\n",
    "* kullanıcıdan isim-soyisim, yaş, boy, kilo bilgilerini alarak VKİ hesaplayacağız\n",
    "* ardından bunları sınıflara göre kaydedeceğiz bir dosyaya kaydedeceğiz\n",
    "\n",
    "\n",
    "Sınıflar ise şu şekilde: \n",
    "* 18, 5 kg/m.'nin altında olanlar: Zayıf\n",
    "* 18.5 – 24, 9 kg/m. arasında olanlar: Normal kilolu\n",
    "* 25 – 29, 9 kg/m. arasında olanlar: Fazla kilolu\n",
    "* 30 – 39, 9 kg/m. arasında olanlar: Obez\n",
    "* 40 kg/m.'nin üzerinde olanlar: İleri derecede obez (morbid obez), olarak görülür."
   ]
  },
  {
   "cell_type": "code",
   "execution_count": 1,
   "metadata": {},
   "outputs": [
    {
     "ename": "SyntaxError",
     "evalue": "incomplete input (3910601113.py, line 17)",
     "output_type": "error",
     "traceback": [
      "\u001b[0;36m  Cell \u001b[0;32mIn[1], line 17\u001b[0;36m\u001b[0m\n\u001b[0;31m    \u001b[0m\n\u001b[0m    ^\u001b[0m\n\u001b[0;31mSyntaxError\u001b[0m\u001b[0;31m:\u001b[0m incomplete input\n"
     ]
    }
   ],
   "source": [
    "def vki_hesapla(boy,kilo):\n",
    "    return kilo/(boy ** 2)\n",
    "\n",
    "def vki_siniflandir(vki):\n",
    "    if vki < 18.5:\n",
    "        return \"zayıf\"\n",
    "    elif 18.5<= vki < 24.9:\n",
    "        return \"normal kilolu\"\n",
    "    elif 25 <= vki < 29.9:\n",
    "        return \"fazla kilolu\"\n",
    "    elif 30 <= vki < 39.9:\n",
    "        return \"obez\"\n",
    "    else:\n",
    "        return \"morbid obez\"\n",
    "    \n",
    "def veri_girisi(dosya_adi):\n",
    "    "
   ]
  },
  {
   "attachments": {},
   "cell_type": "markdown",
   "metadata": {},
   "source": [
    "# Problem 2\n",
    "**YetBar - Smoothie Bank**\n",
    "---\n",
    "YetBar spor salonunun girişinde bulunan, insansız bir sağlıklı içecek otomatıdır. Kullanıcı çeşitli girdiler smoothie içeceğine koyacağı ürünleri belirleyebilir, fiyat hesaplaması yaptırabilir ya da sadece menüyü görüntüleyebilir.\n",
    "\n",
    "**Projenin Amacı:**\n",
    "\n",
    "*   Birbirini etkileyen ve bir kod içerisinde birden fazla defa başvurulacak fonksiyonların oluşturulup, \"fonksiyonel\" proglamlamak.\n",
    "*   Büyük programları yazarken, yazılımcı olarak yapabileceğimiz hatalardan kaçınmak için kontrol yöntemleri geliştirmek.\n",
    "*   Kullanıcı inputlarını ve yaptığımız hesapları, raporlamak/loglamak amacıyla kaydetmek.\n",
    "\n",
    "**Programdan Beklenen Çıktılar**\n",
    "* Program kullanıcıya temelde 2 farklı işlem yapma imkanı sağlar.\n",
    "> 1. Menüyü görüntüleme\n",
    "> 3. Satın alma\n",
    "* Satın alınan her içecek tarih, fiyat bilgisi ile kaydedilmeli ve her zaman ulaşılabilir olmalıdır.\n",
    "\n",
    "\n"
   ]
  },
  {
   "cell_type": "code",
   "execution_count": 2,
   "metadata": {},
   "outputs": [
    {
     "ename": "SyntaxError",
     "evalue": "unterminated f-string literal (detected at line 15) (2274808443.py, line 15)",
     "output_type": "error",
     "traceback": [
      "\u001b[0;36m  Cell \u001b[0;32mIn[2], line 15\u001b[0;36m\u001b[0m\n\u001b[0;31m    print(f\"{smoothie}: {price} TL\u001b[0m\n\u001b[0m          ^\u001b[0m\n\u001b[0;31mSyntaxError\u001b[0m\u001b[0;31m:\u001b[0m unterminated f-string literal (detected at line 15)\n"
     ]
    }
   ],
   "source": [
    "import datetime\n",
    "\n",
    "smoothie_menu = {\n",
    "\n",
    "    \"Berry\": 18,\n",
    "    \"Lime\": 12,\n",
    "    \"Detox\": 10,\n",
    "    \"Protein\": 25\n",
    "}\n",
    "\n",
    "purchase_log = []\n",
    "\n",
    "def display_menu():\n",
    "    for smoothie, price in smoothie_menu.items():\n",
    "        print(f\"{smoothie}: {price} TL\n",
    "\n",
    "def purchase_smoothie():\n",
    "    choice = input(\"smoothie seçin: \")\n",
    "    if choice in smoothie_menu:\n",
    "        price = smoothie_menu[choice]\n",
    "        purchase_log.append({\n",
    "            \"smoothie\": choice,\n",
    "            \"price\": price,\n",
    "            \"date\": datetime.datetime.now().strftime(\"%Y-%m-%d %H:%M:&S\")\n",
    "\n",
    "        }\n",
    "        )\n",
    "\n",
    "        print(f\"{choice} alındı. {price} TL\")\n",
    "    else:\n",
    "        print(\"Geçersiz seçim.\")\n",
    "\n",
    "def display_purchase_log():\n",
    "    for entry in purchase_log:\n",
    "        print(f\"{entry['date']} - {entry['smoothie']: {entry['price']} TL\")\n",
    "def main():\n",
    "    while True:\n",
    "          choice = input(\"1: Menü | 2: satın al | 3: geçmiş | 4: çıkış\\n \")\n",
    "          if choice == '1':\n",
    "             display_menu()\n",
    "          elif choice == '2':\n",
    "             purchase_smoothie()\n",
    "          elif choice == '3':\n",
    "             display_purchase_log\n",
    "          elif choice == '4':\n",
    "                break\n",
    "          else:\n",
    "              print(\"geçersiz seçim\")\n",
    "\n",
    "main()\n",
    "\n",
    "        \n",
    "   "
   ]
  }
 ],
 "metadata": {
  "kernelspec": {
   "display_name": "Python 3",
   "language": "python",
   "name": "python3"
  },
  "language_info": {
   "codemirror_mode": {
    "name": "ipython",
    "version": 3
   },
   "file_extension": ".py",
   "mimetype": "text/x-python",
   "name": "python",
   "nbconvert_exporter": "python",
   "pygments_lexer": "ipython3",
   "version": "3.12.3"
  },
  "orig_nbformat": 4,
  "vscode": {
   "interpreter": {
    "hash": "5026d2d6e7aaaaba093def813beadff083d8733e4a511af01735cbabd156995d"
   }
  }
 },
 "nbformat": 4,
 "nbformat_minor": 2
}
