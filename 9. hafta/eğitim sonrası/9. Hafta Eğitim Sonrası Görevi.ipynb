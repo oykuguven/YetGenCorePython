{
 "cells": [
  {
   "attachments": {},
   "cell_type": "markdown",
   "metadata": {},
   "source": [
    "# Problem 1\n",
    "\n",
    "Kumanda isminde bir sınıf oluşturarak aşağıdaki işlemleri yapmasını sağlayan fonksiyonları sınıf içerisinde yazalım.\n",
    "1. Tv Aç\n",
    "2. Tv Kapat\n",
    "3. Ses Ayarları\n",
    "4. Kanal Ekle\n",
    "5. Kanal Sayısını Öğrenme\n",
    "6. Rastgele Kanala Geçme\n",
    "7. Televizyon Bilgileri\n",
    "\n",
    "\n",
    "Kumandayı kapatmak için q tuşuna basılmalı ve diğer durumlarda hangi işlemi yapmak istediği sorulmalıdır. Her işlemde gerekli fonksiyonunun sınıf içerisinden çağırılması gerekmektedir.\n",
    "\n",
    "random ve time kütüphanesini araştırarak kullanabilirsiniz.\n",
    "\n",
    "Kendi istediğiniz özellikleri eklemekte serbetsiniz."
   ]
  },
  {
   "cell_type": "code",
   "execution_count": 1,
   "metadata": {},
   "outputs": [
    {
     "name": "stdout",
     "output_type": "stream",
     "text": [
      "televizyon açıldı.\n",
      "tv açıldı\n",
      "tv açıldı\n",
      "tv açıldı\n",
      "tv açıldı\n"
     ]
    }
   ],
   "source": [
    "import random\n",
    "import time\n",
    "\n",
    "class kumanda:\n",
    "    def __init__(self):\n",
    "        self.tv_durum = \"kapalı\"\n",
    "        self.tv_ses = 10\n",
    "        self.kanallar = [\"TRT\"] \n",
    "        self.acik_kanal = \"TRT\"\n",
    "    def tv_ac(self):\n",
    "        self.tv_durum = \"açık\"\n",
    "        print(\"televizyon açıldı.\")\n",
    "\n",
    "    def tv_kapat(self):\n",
    "        self.tv_durum = \"açık\"\n",
    "        print(\"tv açıldı\") \n",
    "\n",
    "    def ses_ayarla(self, yeni_ses):\n",
    "        self.ses = yeni_ses\n",
    "        print(f\"ses seviyesi: {self.ses}\")\n",
    "\n",
    "    def kanal_ekle(self, kanal):\n",
    "        self.kanallar.append(kanal)\n",
    "        print(f\"kanal eklendi: {kanal}\")\n",
    "\n",
    "    def tv_bilgileri(self):\n",
    "        print(f\"durum: {self.tv_durum}, ses: {self.ses}, kanal: {self.acik_kanal}, kanallar: {self.kanallar}\")\n",
    "\n",
    "kumanda = kumanda()\n",
    "\n",
    "while True:\n",
    "    secim = input(\"\\n1: tv aç | 2: tv kapat | 3: ses ayar | 4: kanal ekle | 5: bilgi | q: çıkış\\n \")\n",
    "    if secim == '1':\n",
    "        kumanda.tv_ac()\n",
    "    elif secim == '2':\n",
    "        kumanda.tv_kapat()\n",
    "    elif secim == '3':\n",
    "        yeni_ses = int(input(\"yeni ses seviyesi:\"))\n",
    "        kumanda.ses_ayarla(yeni_ses)\n",
    "    elif secim == '4':\n",
    "        kanal = input(\"eklenecek kanal:\")\n",
    "        kumanda.kanal_ekle(kanal)\n",
    "    elif secim  == '5':\n",
    "        kumanda.tv_bilgileri()\n",
    "    elif secim == 'q':\n",
    "        break\n",
    "    else:\n",
    "        print(\"geçersiz seçim\")"
   ]
  }
 ],
 "metadata": {
  "kernelspec": {
   "display_name": "Python 3",
   "language": "python",
   "name": "python3"
  },
  "language_info": {
   "codemirror_mode": {
    "name": "ipython",
    "version": 3
   },
   "file_extension": ".py",
   "mimetype": "text/x-python",
   "name": "python",
   "nbconvert_exporter": "python",
   "pygments_lexer": "ipython3",
   "version": "3.12.3"
  },
  "orig_nbformat": 4,
  "vscode": {
   "interpreter": {
    "hash": "5026d2d6e7aaaaba093def813beadff083d8733e4a511af01735cbabd156995d"
   }
  }
 },
 "nbformat": 4,
 "nbformat_minor": 2
}
